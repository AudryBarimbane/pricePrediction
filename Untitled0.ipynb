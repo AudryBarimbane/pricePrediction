{
  "nbformat": 4,
  "nbformat_minor": 0,
  "metadata": {
    "colab": {
      "name": "Untitled0.ipynb",
      "provenance": [],
      "authorship_tag": "ABX9TyPdNkZ21vbGCK7Ga8Jjpieg",
      "include_colab_link": true
    },
    "kernelspec": {
      "name": "python3",
      "display_name": "Python 3"
    }
  },
  "cells": [
    {
      "cell_type": "markdown",
      "metadata": {
        "id": "view-in-github",
        "colab_type": "text"
      },
      "source": [
        "<a href=\"https://colab.research.google.com/github/AudryBarimbane/pricePrediction/blob/master/Untitled0.ipynb\" target=\"_parent\"><img src=\"https://colab.research.google.com/assets/colab-badge.svg\" alt=\"Open In Colab\"/></a>"
      ]
    },
    {
      "cell_type": "code",
      "metadata": {
        "id": "Mzn5zV2YAdzW",
        "colab_type": "code",
        "colab": {}
      },
      "source": [
        "#Description : this program uses an artificial recurrent  neural network called Long Short Term Memory(LSTM)\n",
        "# to predict the closing stock price  of a corporation (Apple inc.) using the past 60 day stock price"
      ],
      "execution_count": null,
      "outputs": []
    }
  ]
}